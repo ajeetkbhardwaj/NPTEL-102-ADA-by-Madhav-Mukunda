{
 "cells": [
  {
   "cell_type": "markdown",
   "metadata": {},
   "source": [
    "# Week 2 :\n",
    "* **Arrays and Lists :**\n",
    "* **Selection Sort :**\n",
    "* **Insertion Sort :**\n",
    "* **Merge Sort :**\n",
    "* **Merge Sort Analysis :**\n",
    "* **Quick Sort :**\n",
    "* **Quick Sort Analysis :**\n",
    "* **Conclusion : Sorting**\n",
    "* **Interview Questions :**\n"
   ]
  },
  {
   "cell_type": "markdown",
   "metadata": {},
   "source": [
    "## Lecture 1. Arrays and Lists :\n",
    "\n",
    "> We will talk about searching and sorting in arrays of and list of values. there are two methods to store the sequence of values one is arrays and another is lists.Functionally arrays and lists looks similar but form complexity theory point of view they are totally different form one another due to efficiency."
   ]
  },
  {
   "cell_type": "markdown",
   "metadata": {},
   "source": [
    "**Arrays :**\n",
    "> An array is a single block of memory of fixed size. They store the elements concutively. ex : $A[0], A[1], A[2], ... , A[n]$. each elements have an index and it can be helpfull in directly accessing the any element in the array regardless of it is at the end or in starting means it's time complexity of accessing any element in the  array is constant time i.e $O(1)$\n",
    "\n",
    "> To Insert an element in array at any position we require to sift the elements except insertion at the end. Therefore , Complexity of Insertion become expensive as compare to accessing the elements form an array. Worst case the time complexity will be $O(n)$.\n",
    "\n",
    "> Contraction or Deletion of any element from array also requires shiftion of elements except elements at the end position. Therefor , Complexity of Contraction is also as expensive as Insertion i.e $O(n)$.\n",
    "\n",
    "> To Swap or Exchange two elements then it will take constant time i.e $O(c)$"
   ]
  },
  {
   "cell_type": "markdown",
   "metadata": {},
   "source": [
    "**Lists :**\n",
    ">A linked list is a comprehensive way of storing data in a flexible ways. A list consists of two or three block and one of them contains value and in other the address of next and previous linked list node. List values are scattered in the memory and each element point to the next linked list i.e address of next linked list where value is stored.\n",
    "\n",
    "> To access any element in lists, we need to traverse the whole linked list either from begining or end.Therefor , If the elements in the list is at the ith position then the time complexity to access that element will require i number of steps. So, Time Complexity : $O(i)$ .\n",
    "\n",
    "> Insertion and Deletion of any element in the list is quite comparitively arrays easy.For Inserstion , we just apply Plumbing Techniques i.e\n",
    "Find the location in list break the link b/w value and insert the list at that position.To delete a node in list we needed to just take a link bypass it. Thus Time Complexity in Deletion and Insertion takes Constant amount of Time i.e $O(c)$.\n",
    "\n",
    ">To exachage(Swaping) elements in list then it takes $O(n)$i.e Linear Time"
   ]
  },
  {
   "cell_type": "markdown",
   "metadata": {},
   "source": [
    "* >Note : *An Algorithms may do well in one data structure but not in other data structure thought they are representing the same values.* exampele :*Binary Search Work well on Array while on linked list it does't work.*"
   ]
  },
  {
   "cell_type": "code",
   "execution_count": null,
   "metadata": {},
   "outputs": [],
   "source": []
  },
  {
   "cell_type": "markdown",
   "metadata": {},
   "source": [
    "## Interview Questions :\n",
    "* *How list of values are stored in a computer ?*\n",
    "* **\n",
    "* **\n",
    "* **\n",
    "* **\n",
    "* **\n",
    "* **\n",
    "* **\n",
    "* **\n",
    "* **\n",
    "* **\n",
    "* **\n",
    "* **\n",
    "* **\n",
    "* **\n",
    "* **\n",
    "* **\n",
    "* **\n",
    "* **\n",
    "* **\n",
    "* **\n",
    "* **\n",
    "* **\n",
    "* **\n",
    "* **\n"
   ]
  }
 ],
 "metadata": {
  "kernelspec": {
   "display_name": "Python 3.9.0 64-bit",
   "language": "python",
   "name": "python3"
  },
  "language_info": {
   "name": "python",
   "version": "3.9.0"
  },
  "orig_nbformat": 4,
  "vscode": {
   "interpreter": {
    "hash": "0ca1e21494f276abde72cf2fd50c05de29708bdad043165f85cc051039448ce0"
   }
  }
 },
 "nbformat": 4,
 "nbformat_minor": 2
}
