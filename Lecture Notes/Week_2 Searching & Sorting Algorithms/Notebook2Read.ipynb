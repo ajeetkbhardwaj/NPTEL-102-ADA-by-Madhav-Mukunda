{
 "cells": [
  {
   "cell_type": "markdown",
   "metadata": {},
   "source": [
    "### Lecture 1 : Arrays and Lists\n",
    "We look at searching, sorting, accessing, contraction/deletion, insertion for a list of values.\n",
    "\n",
    "* Q.How list of values actully stored in  a computer?\n",
    "> There are two ways to store the values in computer,first is via arrays and second is via linked lists.\n",
    "\n",
    "* Q. What is the Similarity & difference b/w array and linked list?\n",
    "> Functionally array similar to linked list but when we talk about efficiency of other operation like accessing elements, deletion, insertion etc they are totally different from one another.These differences comes becouse of data organization in array and linked list.\n",
    "\n",
    "* Q. How data oraganized in array and linked list?\n",
    ">"
   ]
  },
  {
   "cell_type": "markdown",
   "metadata": {},
   "source": [
    "**Arrays :**\n",
    "* A single block of memory which store the values as consecutive elements in arrays.It is of fixed size and each element are indexed which provides easier access of any element in array via just index reference.\n",
    "\\begin{equation}\n",
    " A[0], A[1], A[2], .... A[n]\n",
    "\\end{equation}\n",
    "\n"
   ]
  },
  {
   "cell_type": "markdown",
   "metadata": {},
   "source": [
    "### Lecture 2 : Searching in an array\n",
    "* Search Problem is to find wheather a value $k$ present in an array or not.An array has sequence of consecutively stored values."
   ]
  },
  {
   "cell_type": "code",
   "execution_count": null,
   "metadata": {},
   "outputs": [],
   "source": [
    "\"\"\"\n",
    "   function search(A,K)\n",
    "      i = 0;\n",
    "      while i<n and A[i] != L do\n",
    "        i = i + 1;\n",
    "      if i < n \n",
    "        return i;\n",
    "      else\n",
    "        return -1;\n",
    "\"\"\"\n",
    "\n"
   ]
  },
  {
   "cell_type": "code",
   "execution_count": null,
   "metadata": {},
   "outputs": [],
   "source": [
    "\"\"\"\n",
    "binary search(K,A,l,r) //sorted search for K in A[l...r-1]\n",
    "if (r-1 == 0) return(false)\n",
    "mid = (l+r)div 2 // integer division\n",
    "if (K == A[mid]) return(true)\n",
    "if (K < A[mid])\n",
    "return(binary search(K,A,l,mid))\n",
    "else\n",
    "return(binary search(K,A,mid+1,r))\n",
    "\"\"\""
   ]
  }
 ],
 "metadata": {
  "language_info": {
   "name": "python"
  },
  "orig_nbformat": 4
 },
 "nbformat": 4,
 "nbformat_minor": 2
}
